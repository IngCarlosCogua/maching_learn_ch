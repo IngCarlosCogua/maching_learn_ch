{
  "nbformat": 4,
  "nbformat_minor": 0,
  "metadata": {
    "colab": {
      "name": "datos_categoricos",
      "provenance": [],
      "collapsed_sections": [],
      "mount_file_id": "1GW_HA8qOTfInhVPCYQ49aD0D4Va8uRwr",
      "authorship_tag": "ABX9TyP3Bk/8h1O209a8plt6OrDn",
      "include_colab_link": true
    },
    "kernelspec": {
      "name": "python3",
      "display_name": "Python 3"
    },
    "language_info": {
      "name": "python"
    }
  },
  "cells": [
    {
      "cell_type": "markdown",
      "metadata": {
        "id": "view-in-github",
        "colab_type": "text"
      },
      "source": [
        "<a href=\"https://colab.research.google.com/github/IngCarlosCogua/maching_learn_ch/blob/main/Regresiones/tratamiento_de_datos_categoricos.ipynb\" target=\"_parent\"><img src=\"https://colab.research.google.com/assets/colab-badge.svg\" alt=\"Open In Colab\"/></a>"
      ]
    },
    {
      "cell_type": "code",
      "execution_count": 2,
      "metadata": {
        "id": "Q0ghWQE34j-T"
      },
      "outputs": [],
      "source": [
        "import pandas as pd\n",
        "import numpy as np\n",
        "import matplotlib.pyplot as plt\n",
        "\n"
      ]
    },
    {
      "cell_type": "code",
      "source": [
        "dataset = pd.read_csv('/content/drive/MyDrive/Analitica_Programadorch/Archivoscsv/test.csv')\n",
        "dataset.info() #informacion de filas y columnas del dataset"
      ],
      "metadata": {
        "colab": {
          "base_uri": "https://localhost:8080/"
        },
        "id": "axHO3i9D5aFE",
        "outputId": "11e14197-c88b-447c-c8b5-ca46bf6733e6"
      },
      "execution_count": 7,
      "outputs": [
        {
          "output_type": "stream",
          "name": "stdout",
          "text": [
            "<class 'pandas.core.frame.DataFrame'>\n",
            "RangeIndex: 1234 entries, 0 to 1233\n",
            "Data columns (total 12 columns):\n",
            " #   Column             Non-Null Count  Dtype  \n",
            "---  ------             --------------  -----  \n",
            " 0   Name               1234 non-null   object \n",
            " 1   Location           1234 non-null   object \n",
            " 2   Year               1234 non-null   int64  \n",
            " 3   Kilometers_Driven  1234 non-null   int64  \n",
            " 4   Fuel_Type          1234 non-null   object \n",
            " 5   Transmission       1234 non-null   object \n",
            " 6   Owner_Type         1234 non-null   object \n",
            " 7   Mileage            1234 non-null   object \n",
            " 8   Engine             1224 non-null   object \n",
            " 9   Power              1224 non-null   object \n",
            " 10  Seats              1223 non-null   float64\n",
            " 11  New_Price          182 non-null    object \n",
            "dtypes: float64(1), int64(2), object(9)\n",
            "memory usage: 115.8+ KB\n"
          ]
        }
      ]
    },
    {
      "cell_type": "code",
      "source": [
        "dataset.columns # viendo el nombre de las columnas "
      ],
      "metadata": {
        "id": "FvemZBLyDeVx"
      },
      "execution_count": null,
      "outputs": []
    },
    {
      "cell_type": "code",
      "source": [
        "dataset.head(3)"
      ],
      "metadata": {
        "id": "KpCiBHJX-qsl"
      },
      "execution_count": null,
      "outputs": []
    },
    {
      "cell_type": "code",
      "source": [
        "dataset['Fuel_Type'].unique() # viendo los datos categoricos de la columna Fuel_Type"
      ],
      "metadata": {
        "colab": {
          "base_uri": "https://localhost:8080/"
        },
        "id": "qbBKGb5IIyup",
        "outputId": "a280c47f-202a-4c54-870c-e3c91ccedb3b"
      },
      "execution_count": 11,
      "outputs": [
        {
          "output_type": "execute_result",
          "data": {
            "text/plain": [
              "array(['CNG', 'Petrol', 'Diesel', 'LPG'], dtype=object)"
            ]
          },
          "metadata": {},
          "execution_count": 11
        }
      ]
    },
    {
      "cell_type": "markdown",
      "source": [
        "**variable categorica**"
      ],
      "metadata": {
        "id": "ODWkgs-zJLii"
      }
    },
    {
      "cell_type": "code",
      "source": [
        "column_dummies = pd.get_dummies(dataset['Fuel_Type'])#conviertiendo el contenido de la columna en dummi"
      ],
      "metadata": {
        "id": "PIdiH64wJDsF"
      },
      "execution_count": 16,
      "outputs": []
    },
    {
      "cell_type": "code",
      "source": [
        "column_dummies.head()"
      ],
      "metadata": {
        "id": "vYomuxHaJfpo"
      },
      "execution_count": null,
      "outputs": []
    },
    {
      "cell_type": "code",
      "source": [
        "datafwithDummies = pd.get_dummies(dataset,columns =['Fuel_Type'])\n",
        " #en una nueva variable guarademos los valores del dataset reemplazando  el contenido atual de la columna fuel_type por loz valores dumies\n"
      ],
      "metadata": {
        "id": "PemFLBnCKGvL"
      },
      "execution_count": 19,
      "outputs": []
    },
    {
      "cell_type": "code",
      "source": [
        "datafwithDummies.head(2) #las columnas finales tiene los vaores dummies"
      ],
      "metadata": {
        "id": "7M7Fmv0uKebr"
      },
      "execution_count": null,
      "outputs": []
    }
  ]
}