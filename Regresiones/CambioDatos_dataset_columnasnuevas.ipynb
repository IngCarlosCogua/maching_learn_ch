{
  "nbformat": 4,
  "nbformat_minor": 0,
  "metadata": {
    "colab": {
      "name": "CambioDatos_dataset_columnasnuevas",
      "provenance": [],
      "collapsed_sections": [],
      "mount_file_id": "14DY_8bdWTzHF5c0qk4SBWHTZ644DdHt6",
      "authorship_tag": "ABX9TyOFpUV5kQzuwpZ6htiIxCKk",
      "include_colab_link": true
    },
    "kernelspec": {
      "name": "python3",
      "display_name": "Python 3"
    },
    "language_info": {
      "name": "python"
    }
  },
  "cells": [
    {
      "cell_type": "markdown",
      "metadata": {
        "id": "view-in-github",
        "colab_type": "text"
      },
      "source": [
        "<a href=\"https://colab.research.google.com/github/IngCarlosCogua/maching_learn_ch/blob/main/Regresiones/CambioDatos_dataset_columnasnuevas.ipynb\" target=\"_parent\"><img src=\"https://colab.research.google.com/assets/colab-badge.svg\" alt=\"Open In Colab\"/></a>"
      ]
    },
    {
      "cell_type": "code",
      "execution_count": 1,
      "metadata": {
        "id": "nH_ASglTMDR1"
      },
      "outputs": [],
      "source": [
        "import pandas as pd\n",
        "import numpy as np\n"
      ]
    },
    {
      "cell_type": "code",
      "source": [
        "fichero = '/content/drive/MyDrive/Analitica_Programadorch/Archivoscsv/test.csv'\n",
        "datos = pd.read_csv(fichero) #leyendo la ruta\n",
        "\n"
      ],
      "metadata": {
        "id": "qEw-CoQXMMeH"
      },
      "execution_count": 3,
      "outputs": []
    },
    {
      "cell_type": "code",
      "source": [
        "datos.head()"
      ],
      "metadata": {
        "id": "l3NZa2ooMnEG"
      },
      "execution_count": null,
      "outputs": []
    },
    {
      "cell_type": "code",
      "source": [
        "datos.dtypes # mostrando el tipo de variables"
      ],
      "metadata": {
        "id": "ZllBcGUAMtiW"
      },
      "execution_count": null,
      "outputs": []
    },
    {
      "cell_type": "markdown",
      "source": [
        "**cambie los datos de la columna años que estaban en int64 a float 64**"
      ],
      "metadata": {
        "id": "nWRtICWuPKH3"
      }
    },
    {
      "cell_type": "code",
      "source": [
        "#dataframe  columna y tipo de valor\n",
        "datos['Year']= datos['Year'].astype('float64') "
      ],
      "metadata": {
        "id": "irJF8BZBM8aa"
      },
      "execution_count": 20,
      "outputs": []
    },
    {
      "cell_type": "code",
      "source": [
        "datos.dtypes "
      ],
      "metadata": {
        "id": "GGQKowKtPGqZ"
      },
      "execution_count": null,
      "outputs": []
    },
    {
      "cell_type": "markdown",
      "source": [
        "**Realizar calculos y ponerlos en una columna nueva**"
      ],
      "metadata": {
        "id": "pUXhQRf_Pqbd"
      }
    },
    {
      "cell_type": "code",
      "source": [
        "#dataset 'columna nueva'  = operacion matematica\n",
        "datos['Millas_driven'] = datos['Kilometers_Driven']*0.621371"
      ],
      "metadata": {
        "id": "NNjhqqT9Pubz"
      },
      "execution_count": 22,
      "outputs": []
    },
    {
      "cell_type": "markdown",
      "source": [
        "**Renombrar columnas**"
      ],
      "metadata": {
        "id": "D_Kp_pP_Rt19"
      }
    },
    {
      "cell_type": "code",
      "source": [
        "datos.rename(columns= {'Millas_driven': 'Millas_conducidas'}, inplace= True)"
      ],
      "metadata": {
        "id": "CDNbIC5aQyBA"
      },
      "execution_count": 25,
      "outputs": []
    },
    {
      "cell_type": "code",
      "source": [
        "datos.columns"
      ],
      "metadata": {
        "id": "uCJog61tRWOc"
      },
      "execution_count": null,
      "outputs": []
    },
    {
      "cell_type": "markdown",
      "source": [
        "**Normalizacion de datos \"para algunos casos de machine learning es necesario\", haciendo un escalado simple, ESTO SE HACE CUANDO UNA COLUMNA LOS VALORES DE UNA COLUMNA SON EL RESULTADO DE OPERAR UNA CONSTANTE CON OTRA, al normalizar los valores de las 2 columnas seran los mismo y el algoritmo no se confundira al tomar una desicion, no aplica para todos los casos**"
      ],
      "metadata": {
        "id": "XoopIwt3RmuN"
      }
    },
    {
      "cell_type": "markdown",
      "source": [
        "metodo: minimo y valor anterior"
      ],
      "metadata": {
        "id": "BuKwQkb7UtcD"
      }
    },
    {
      "cell_type": "code",
      "source": [
        " print(datos[['Millas_conducidas', 'Kilometers_Driven']])"
      ],
      "metadata": {
        "colab": {
          "base_uri": "https://localhost:8080/"
        },
        "id": "wh9bn9x7RmYF",
        "outputId": "6566912a-1611-40ce-afed-b2dd2f31dfbc"
      },
      "execution_count": 35,
      "outputs": [
        {
          "output_type": "stream",
          "name": "stdout",
          "text": [
            "      Millas_conducidas  Kilometers_Driven\n",
            "0          25432.093659              40929\n",
            "1          33860.369903              54493\n",
            "2          21126.614000              34000\n",
            "3          86370.569000             139000\n",
            "4          18019.759000              29000\n",
            "...                 ...                ...\n",
            "1229       55557.402481              89411\n",
            "1230       36660.889000              59000\n",
            "1231       17398.388000              28000\n",
            "1232       32474.091202              52262\n",
            "1233       45013.979353              72443\n",
            "\n",
            "[1234 rows x 2 columns]\n"
          ]
        }
      ]
    },
    {
      "cell_type": "code",
      "source": [
        "datos['Millas_Norm'] = datos['Millas_conducidas']/datos['Millas_conducidas'].max()\n",
        "datos['Kilometros_Norm'] = datos['Kilometers_Driven']/datos['Kilometers_Driven'].max()"
      ],
      "metadata": {
        "id": "LjaE3NrISuiV"
      },
      "execution_count": 36,
      "outputs": []
    },
    {
      "cell_type": "code",
      "source": [
        " print(datos[['Millas_Norm','Kilometros_Norm']])"
      ],
      "metadata": {
        "colab": {
          "base_uri": "https://localhost:8080/"
        },
        "id": "sBmClGMnTBU3",
        "outputId": "61292cc9-590d-408b-accc-e7039d42a3e7"
      },
      "execution_count": 38,
      "outputs": [
        {
          "output_type": "stream",
          "name": "stdout",
          "text": [
            "      Millas_Norm  Kilometros_Norm\n",
            "0        0.116940         0.116940\n",
            "1        0.155694         0.155694\n",
            "2        0.097143         0.097143\n",
            "3        0.397143         0.397143\n",
            "4        0.082857         0.082857\n",
            "...           ...              ...\n",
            "1229     0.255460         0.255460\n",
            "1230     0.168571         0.168571\n",
            "1231     0.080000         0.080000\n",
            "1232     0.149320         0.149320\n",
            "1233     0.206980         0.206980\n",
            "\n",
            "[1234 rows x 2 columns]\n"
          ]
        }
      ]
    },
    {
      "cell_type": "markdown",
      "source": [
        "Otro metodo es tomando el minimo y el maximo"
      ],
      "metadata": {
        "id": "mLSFb7MOUyIv"
      }
    },
    {
      "cell_type": "code",
      "source": [
        "print(datos[['Millas_conducidas', 'Kilometers_Driven']])\n",
        "\n",
        "datos['Millas_Norm'] = datos['Millas_conducidas']-datos['Millas_conducidas'],min()/datos['Millas_conducidas'].max()\n",
        "datos['Kilometros_Norm'] = datos['Kilometers_Driven']-datos['Kilometers_Driven'],min()/datos['Kilometers_Driven'].max()\n"
      ],
      "metadata": {
        "colab": {
          "base_uri": "https://localhost:8080/",
          "height": 482
        },
        "id": "PfzqTJRJU3FG",
        "outputId": "9cdfd393-2498-44f9-d9d4-a5a423359328"
      },
      "execution_count": 41,
      "outputs": [
        {
          "output_type": "stream",
          "name": "stdout",
          "text": [
            "      Millas_conducidas  Kilometers_Driven\n",
            "0          25432.093659              40929\n",
            "1          33860.369903              54493\n",
            "2          21126.614000              34000\n",
            "3          86370.569000             139000\n",
            "4          18019.759000              29000\n",
            "...                 ...                ...\n",
            "1229       55557.402481              89411\n",
            "1230       36660.889000              59000\n",
            "1231       17398.388000              28000\n",
            "1232       32474.091202              52262\n",
            "1233       45013.979353              72443\n",
            "\n",
            "[1234 rows x 2 columns]\n"
          ]
        },
        {
          "output_type": "error",
          "ename": "TypeError",
          "evalue": "ignored",
          "traceback": [
            "\u001b[0;31m---------------------------------------------------------------------------\u001b[0m",
            "\u001b[0;31mTypeError\u001b[0m                                 Traceback (most recent call last)",
            "\u001b[0;32m<ipython-input-41-a82150165d68>\u001b[0m in \u001b[0;36m<module>\u001b[0;34m()\u001b[0m\n\u001b[1;32m      1\u001b[0m \u001b[0mprint\u001b[0m\u001b[0;34m(\u001b[0m\u001b[0mdatos\u001b[0m\u001b[0;34m[\u001b[0m\u001b[0;34m[\u001b[0m\u001b[0;34m'Millas_conducidas'\u001b[0m\u001b[0;34m,\u001b[0m \u001b[0;34m'Kilometers_Driven'\u001b[0m\u001b[0;34m]\u001b[0m\u001b[0;34m]\u001b[0m\u001b[0;34m)\u001b[0m\u001b[0;34m\u001b[0m\u001b[0;34m\u001b[0m\u001b[0m\n\u001b[1;32m      2\u001b[0m \u001b[0;34m\u001b[0m\u001b[0m\n\u001b[0;32m----> 3\u001b[0;31m \u001b[0mdatos\u001b[0m\u001b[0;34m[\u001b[0m\u001b[0;34m'Millas_Norm'\u001b[0m\u001b[0;34m]\u001b[0m \u001b[0;34m=\u001b[0m \u001b[0mdatos\u001b[0m\u001b[0;34m[\u001b[0m\u001b[0;34m'Millas_conducidas'\u001b[0m\u001b[0;34m]\u001b[0m\u001b[0;34m-\u001b[0m\u001b[0mdatos\u001b[0m\u001b[0;34m[\u001b[0m\u001b[0;34m'Millas_conducidas'\u001b[0m\u001b[0;34m]\u001b[0m\u001b[0;34m,\u001b[0m\u001b[0mmin\u001b[0m\u001b[0;34m(\u001b[0m\u001b[0;34m)\u001b[0m\u001b[0;34m/\u001b[0m\u001b[0mdatos\u001b[0m\u001b[0;34m[\u001b[0m\u001b[0;34m'Millas_conducidas'\u001b[0m\u001b[0;34m]\u001b[0m\u001b[0;34m.\u001b[0m\u001b[0mmax\u001b[0m\u001b[0;34m(\u001b[0m\u001b[0;34m)\u001b[0m\u001b[0;34m\u001b[0m\u001b[0;34m\u001b[0m\u001b[0m\n\u001b[0m\u001b[1;32m      4\u001b[0m \u001b[0mdatos\u001b[0m\u001b[0;34m[\u001b[0m\u001b[0;34m'Kilometros_Norm'\u001b[0m\u001b[0;34m]\u001b[0m \u001b[0;34m=\u001b[0m \u001b[0mdatos\u001b[0m\u001b[0;34m[\u001b[0m\u001b[0;34m'Kilometers_Driven'\u001b[0m\u001b[0;34m]\u001b[0m\u001b[0;34m-\u001b[0m\u001b[0mdatos\u001b[0m\u001b[0;34m[\u001b[0m\u001b[0;34m'Kilometers_Driven'\u001b[0m\u001b[0;34m]\u001b[0m\u001b[0;34m,\u001b[0m\u001b[0mmin\u001b[0m\u001b[0;34m(\u001b[0m\u001b[0;34m)\u001b[0m\u001b[0;34m/\u001b[0m\u001b[0mdatos\u001b[0m\u001b[0;34m[\u001b[0m\u001b[0;34m'Kilometers_Driven'\u001b[0m\u001b[0;34m]\u001b[0m\u001b[0;34m.\u001b[0m\u001b[0mmax\u001b[0m\u001b[0;34m(\u001b[0m\u001b[0;34m)\u001b[0m\u001b[0;34m\u001b[0m\u001b[0;34m\u001b[0m\u001b[0m\n",
            "\u001b[0;31mTypeError\u001b[0m: min expected 1 arguments, got 0"
          ]
        }
      ]
    },
    {
      "cell_type": "code",
      "source": [
        " print(datos[['Millas_Norm','Kilometros_Norm']])"
      ],
      "metadata": {
        "colab": {
          "base_uri": "https://localhost:8080/"
        },
        "id": "djOz_Kz7YqKR",
        "outputId": "ed9d548c-496e-46d9-a1a7-d98591401ebd"
      },
      "execution_count": 40,
      "outputs": [
        {
          "output_type": "stream",
          "name": "stdout",
          "text": [
            "      Millas_Norm  Kilometros_Norm\n",
            "0        0.116940         0.116940\n",
            "1        0.155694         0.155694\n",
            "2        0.097143         0.097143\n",
            "3        0.397143         0.397143\n",
            "4        0.082857         0.082857\n",
            "...           ...              ...\n",
            "1229     0.255460         0.255460\n",
            "1230     0.168571         0.168571\n",
            "1231     0.080000         0.080000\n",
            "1232     0.149320         0.149320\n",
            "1233     0.206980         0.206980\n",
            "\n",
            "[1234 rows x 2 columns]\n"
          ]
        }
      ]
    }
  ]
}