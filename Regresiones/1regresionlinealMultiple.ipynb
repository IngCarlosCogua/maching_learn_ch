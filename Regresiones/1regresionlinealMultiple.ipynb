{
  "nbformat": 4,
  "nbformat_minor": 0,
  "metadata": {
    "colab": {
      "name": "regresionlinealMultiple.ipynb",
      "provenance": [],
      "collapsed_sections": [],
      "mount_file_id": "1Nkk57Mzi87ZIvD4PZImJcme1oMK2_bDr",
      "authorship_tag": "ABX9TyOdxLvVsTHeaLC+61dP8OCd",
      "include_colab_link": true
    },
    "kernelspec": {
      "name": "python3",
      "display_name": "Python 3"
    },
    "language_info": {
      "name": "python"
    }
  },
  "cells": [
    {
      "cell_type": "markdown",
      "metadata": {
        "id": "view-in-github",
        "colab_type": "text"
      },
      "source": [
        "<a href=\"https://colab.research.google.com/github/IngCarlosCogua/maching_learn_ch/blob/main/Regresiones/1regresionlinealMultiple.ipynb\" target=\"_parent\"><img src=\"https://colab.research.google.com/assets/colab-badge.svg\" alt=\"Open In Colab\"/></a>"
      ]
    },
    {
      "cell_type": "markdown",
      "source": [
        "**Regreseion lineal multiple**\n",
        "realizado por Ing Carlor anurlfo C\n",
        "--------------modificacion de 27 de julio del 2021----------\n",
        "\n",
        "\n",
        "**RESTRIGCIONES!! deben satisfacerse estos 5 conseptos**\n",
        "\n",
        "1.lINEALIDAD\n",
        "2.HOMOCEDASTICIDAD\n",
        "3. NORMALIDAD MULTIVARIABE\n",
        "4. INDEPENDENCIA DE LOS ERRORES\n",
        "5. AUSENCIA DE MULTICOLONIEALIDAD\n",
        "\n",
        "**PASO  A PASO PARA CREAR EL MODELO **\n",
        "-SELECCIONAR LAS VARIABLES CORRECTAS\n",
        "\n",
        "-METODO ALL-IN: apostarlo todo, no es recomendable hacerlo, todas las variables son predictoras en el dataframe no se descarta ninguna \n",
        "\n",
        "-SELECCION HACIA ATRAS: se hace en 5 pasos , elejir nivel de sginificacion Sl = 0,05, se calcula modelo con todas las posibles variables predictoras, se elejige la variable predictora con el Pvalor mas grande, se elimina la variable predictora con pvalor mas alto, se ajusta el modelo sin dicha variable\n",
        "\n",
        "-SELECCION HACIA ADELANTE: añadismo variables con pvalor inferior al nivel de significacion, se ajustan todos los modelos de regresionsimple con una variable, conservamos esa variable, consideramos la variable predictora con menor pvalor, fin\n",
        "\n",
        "\n",
        "-ELIMINACION BIDIRECCIONAL: combina los 2 pasos en 1, se selecciona nivel se ginificaion para modelo y ptrop para ser eliminado del modelo, `se hace una seleccion asia adelante,se lleva acabo todos los pasos de eliminacion hacia atras, repetimos el cliclo, se añad la mejor variable se quitan las que sobran\n",
        "\n",
        "-COMPARACION DE SCORES: fuerza bruta, se generan todos los metodos de regresion posibles y escojemos el que mas nos guste, no es olucion viable 10 columnas o variables de datos significan 1023 modelos para entrenar\n",
        "\n",
        " **texto en negrita**\n",
        "\n",
        "\n"
      ],
      "metadata": {
        "id": "LtaioMAcDY3r"
      }
    },
    {
      "cell_type": "markdown",
      "source": [
        "**Vamos a predecir la columna 5 el beneficio de la empresa contando con 4 variables numericas y un categorica**"
      ],
      "metadata": {
        "id": "hBExblBMPiWU"
      }
    },
    {
      "cell_type": "markdown",
      "source": [
        "# **1. INPORTACION DEL DATAFRAME LIBRERIAS BASICAS Y CREACION DE LOS 2 VECTORES X Y Y **"
      ],
      "metadata": {
        "id": "QlU7ulGcskbi"
      }
    },
    {
      "cell_type": "code",
      "source": [
        "from google.colab import drive\n",
        "drive.mount('/content/drive')"
      ],
      "metadata": {
        "colab": {
          "base_uri": "https://localhost:8080/"
        },
        "id": "pttFCCFTb3L4",
        "outputId": "a584224b-fc99-4ea3-a857-fffbdc197156"
      },
      "execution_count": 1,
      "outputs": [
        {
          "output_type": "stream",
          "name": "stdout",
          "text": [
            "Mounted at /content/drive\n"
          ]
        }
      ]
    },
    {
      "cell_type": "markdown",
      "source": [
        "La regresion lineal multiple tiene mas variables independientes"
      ],
      "metadata": {
        "id": "Diz9V9Y5-n67"
      }
    },
    {
      "cell_type": "code",
      "execution_count": null,
      "metadata": {
        "id": "xMLZ1FNz-yB8"
      },
      "outputs": [],
      "source": [
        "#importacion de librerias\n",
        "import numpy as np #calculos matematicos cientificos\n",
        "import matplotlib.pyplot as plt #sublinreria para representacio  grafica\n",
        "import pandas as pd # libreria para carga y manipulacion de datos\n",
        "dataset = pd.read_csv('/content/drive/MyDrive/Analitica_Programadorch/Archivoscsv/50_Startups.csv')\n",
        "dataset.info() #informacion de filas y columnas del dataset"
      ]
    },
    {
      "cell_type": "code",
      "source": [
        "dataset.head()"
      ],
      "metadata": {
        "id": "mQFedjwZ_Ij9"
      },
      "execution_count": null,
      "outputs": []
    },
    {
      "cell_type": "code",
      "source": [
        "#X es la variable independiente predictora  y Y es la variable dependiente a predecir\n",
        "#el dataset tiene 5 columnas debes tratar de que el valor a predecir este en la ultima columna para ignorarlo en X y yo Tomarlo en Y\n",
        "X = dataset.iloc[:,:-1].values #iloc sirve para localizar filas i columnas por posicion,[:,:-1] toma todas las filas y todas la columnas exepto la ultima en una array\n",
        "Y = dataset.iloc[:,4].values # toma todas la filas pero solo de la ultima columna"
      ],
      "metadata": {
        "id": "bCgzIwDa_La7"
      },
      "execution_count": 4,
      "outputs": []
    },
    {
      "cell_type": "markdown",
      "source": [
        "Viendo el contenido de los arrays X & Y"
      ],
      "metadata": {
        "id": "PS7muSAOQiNJ"
      }
    },
    {
      "cell_type": "code",
      "source": [
        "X"
      ],
      "metadata": {
        "id": "kklUgNPfQbiU"
      },
      "execution_count": null,
      "outputs": []
    },
    {
      "cell_type": "code",
      "source": [
        "Y"
      ],
      "metadata": {
        "id": "LrpuPpBOOMJw"
      },
      "execution_count": null,
      "outputs": []
    },
    {
      "cell_type": "markdown",
      "source": [
        "## **2.Tratamiendo de Datos Categoricos strings, codificacion, cardinales SI o No**"
      ],
      "metadata": {
        "id": "tFbcdOuH_rRl"
      }
    },
    {
      "cell_type": "code",
      "source": [
        "dataset['State'].unique() #primero identificamos los datos unicos strings de la columna "
      ],
      "metadata": {
        "id": "hDOseN4z_oxL",
        "colab": {
          "base_uri": "https://localhost:8080/"
        },
        "outputId": "60a69fce-b758-47d7-dac8-42c5101dd60a"
      },
      "execution_count": 7,
      "outputs": [
        {
          "output_type": "execute_result",
          "data": {
            "text/plain": [
              "array(['New York', 'California', 'Florida'], dtype=object)"
            ]
          },
          "metadata": {},
          "execution_count": 7
        }
      ]
    },
    {
      "cell_type": "markdown",
      "source": [
        "**Recodificando los valores strings a numericos**"
      ],
      "metadata": {
        "id": "HlhAIM7eJoMm"
      }
    },
    {
      "cell_type": "code",
      "source": [
        "from sklearn.preprocessing import LabelEncoder  # importanto el constructor\n",
        "#codificador de las variables , constructor \n",
        "LabelEncoder_X = LabelEncoder()\n",
        "#damos la instruccion de que reemplace los datos de la columna dependiente en datos numericos\n",
        "X[: ,3] =LabelEncoder_X.fit_transform(X[:,3])#recodifica los valores de todas las filas de la primera columna"
      ],
      "metadata": {
        "id": "BptFlrX0Iexo"
      },
      "execution_count": 8,
      "outputs": []
    },
    {
      "cell_type": "markdown",
      "source": [
        "esto a reasiganando los valores de france como un 0, spain como un 1 y germany como un 2"
      ],
      "metadata": {
        "id": "AiWrKNQ4JaT-"
      }
    },
    {
      "cell_type": "code",
      "source": [
        "X #verificamos la variable predictora x con los valores strings convertidos en numeros"
      ],
      "metadata": {
        "id": "Qm4z_x6BMCLS"
      },
      "execution_count": null,
      "outputs": []
    },
    {
      "cell_type": "markdown",
      "source": [
        "## **3.Variables Falsas o  Dumi , recategorizar los valores de la columna string convirtiendo cada valor en columnas y validar su categorizacion con 1 y 0**"
      ],
      "metadata": {
        "id": "LPqqCIGuUKAd"
      }
    },
    {
      "cell_type": "code",
      "source": [
        "#librerias para decodificar los valores numericos a valores dumi\n",
        "# 1 true 0 false\n",
        "from sklearn.preprocessing import OneHotEncoder\n",
        "from sklearn.compose import ColumnTransformer\n",
        "# usando el contructor columnTransformer para tranformar la columna 0 de la variable X en variable dumi columnas de unos y ceros\n",
        "columnTransformer = ColumnTransformer([('encoder', OneHotEncoder(), [3])], remainder='passthrough')\n",
        "# Entrenando y reemplazando los datos en la variable x \n",
        "X = np.array(columnTransformer.fit_transform(X), dtype = np.str)\n",
        "#en este caso solo hay 3 paises por lo tanto se crearan 3 variables dumi pero debemos eliminar 1 \n",
        "# debemos evitar la trampa de las variables ficticias dumi, si tiene 3 string solo 2  variables dumi deberian ser parte del modelo eliminamos la primera columna\n",
        "X = X[:,1:] #reasignar valores a x desde la columna 1 en adelante lo que quiere decir que la columna 0 se omite\n",
        "\n",
        "print(X)"
      ],
      "metadata": {
        "id": "AgMfQSICTmfl"
      },
      "execution_count": null,
      "outputs": []
    },
    {
      "cell_type": "markdown",
      "source": [
        "# **4.Division de dataset Para Entrenamiento y Testeo**"
      ],
      "metadata": {
        "id": "-R6EHkhC_jF1"
      }
    },
    {
      "cell_type": "markdown",
      "source": [
        "del 100% de  los datos tomamos el 80 o 70 % para entrenan y el restante lo dejamos para evaluar su efectividad"
      ],
      "metadata": {
        "id": "V834wqYO_7rr"
      }
    },
    {
      "cell_type": "code",
      "source": [
        "from sklearn.model_selection import train_test_split # funcion que nos permite dividir el dataset original"
      ],
      "metadata": {
        "id": "LwMjQ7Oq_t-7"
      },
      "execution_count": 11,
      "outputs": []
    },
    {
      "cell_type": "markdown",
      "source": [
        "Dividiendo las variables"
      ],
      "metadata": {
        "id": "XQfZzN5TCY2D"
      }
    },
    {
      "cell_type": "code",
      "source": [
        "#variables de entrenaiento y testeo   division de dataset \n",
        "X_train, X_test, Y_train, Y_test = train_test_split(X, Y, test_size= 0.2, random_state= 0 ) #80% de los datos o filas son para entrenaiento y 20 para testeo"
      ],
      "metadata": {
        "id": "pCy5wRpNBCcU"
      },
      "execution_count": 12,
      "outputs": []
    },
    {
      "cell_type": "markdown",
      "source": [
        "**arrays de entrenamiento**"
      ],
      "metadata": {
        "id": "my-mf2QtwBJW"
      }
    },
    {
      "cell_type": "code",
      "source": [
        "X_train"
      ],
      "metadata": {
        "id": "hxiu-BqGv8Wr"
      },
      "execution_count": null,
      "outputs": []
    },
    {
      "cell_type": "code",
      "source": [
        "Y_train"
      ],
      "metadata": {
        "id": "dFMgVyViwLRC"
      },
      "execution_count": null,
      "outputs": []
    },
    {
      "cell_type": "markdown",
      "source": [
        "**Arrays de testeo**"
      ],
      "metadata": {
        "id": "SPlfKJVAHFRB"
      }
    },
    {
      "cell_type": "code",
      "source": [
        "X_test"
      ],
      "metadata": {
        "id": "jmrBqhAjwYdk"
      },
      "execution_count": null,
      "outputs": []
    },
    {
      "cell_type": "code",
      "source": [
        "Y_test"
      ],
      "metadata": {
        "id": "_55g_j1VwbYW",
        "colab": {
          "base_uri": "https://localhost:8080/"
        },
        "outputId": "09b05130-e8b0-41ba-bf75-df83754d8de2"
      },
      "execution_count": 16,
      "outputs": [
        {
          "output_type": "execute_result",
          "data": {
            "text/plain": [
              "array([103282.38, 144259.4 , 146121.95,  77798.83, 191050.39, 105008.31,\n",
              "        81229.06,  97483.56, 110352.25, 166187.94])"
            ]
          },
          "metadata": {},
          "execution_count": 16
        }
      ]
    },
    {
      "cell_type": "markdown",
      "source": [
        "# **5.Creando o Ajustando el modelo de regresion lineal multiople con el j¡conjunto de entrenamiento**"
      ],
      "metadata": {
        "id": "k-QAQegfmnQu"
      }
    },
    {
      "cell_type": "code",
      "source": [
        "from sklearn.linear_model import LinearRegression\n",
        "regresion = LinearRegression() #creando el objeto regresion\n",
        "regresion.fit(X_train, Y_train) #realizando la regresion con las variables de entrenamieto"
      ],
      "metadata": {
        "id": "_j0jIl5ZmuPu"
      },
      "execution_count": null,
      "outputs": []
    },
    {
      "cell_type": "markdown",
      "source": [
        "Hasta este punto ya esta entrenado el conjunto de datos"
      ],
      "metadata": {
        "id": "uVHbJnm4pxyw"
      }
    },
    {
      "cell_type": "markdown",
      "source": [
        "# **6. Generando la Prediccion de los resultados en el conjunto de testing**:"
      ],
      "metadata": {
        "id": "eVtZs0yzp1wl"
      }
    },
    {
      "cell_type": "code",
      "source": [
        "#usamos el objeto regresion ya creado\n",
        "Y_pred = regresion.predict(X_test) # ya no para ajustar si no para predecir TESTEO \n"
      ],
      "metadata": {
        "id": "dWWm1o7vqgm_"
      },
      "execution_count": null,
      "outputs": []
    },
    {
      "cell_type": "markdown",
      "source": [
        "Mostrando la prediccion del testo con los valores originales del testeo y observamos la cercania de los valores no hay demasiados valores dispersos o alejados el original Y contiene los valores de la columna de ganacias $$$"
      ],
      "metadata": {
        "id": "c3VuC9E4rr3k"
      }
    },
    {
      "cell_type": "code",
      "source": [
        "Y_pred"
      ],
      "metadata": {
        "id": "1WLSHQvGq8l8"
      },
      "execution_count": null,
      "outputs": []
    },
    {
      "cell_type": "code",
      "source": [
        "Y_test"
      ],
      "metadata": {
        "id": "9T7DbQVArP3L"
      },
      "execution_count": null,
      "outputs": []
    },
    {
      "cell_type": "markdown",
      "source": [
        "**7. Eliminacion hacia atras (eliminando variables que no son estadisticmente significativas en los dataset o vectores de entrenamiento, no necesariamente mas variables de mejor resultado hay que ser muy explicito en lo que se desea)**"
      ],
      "metadata": {
        "id": "zZIbtPXMsL9W"
      }
    },
    {
      "cell_type": "markdown",
      "source": [
        "Construyendo el modelo OPTIMO de RLM utilizando la tecnica de eliminacion hacia atras"
      ],
      "metadata": {
        "id": "S_NmUkHMuRd9"
      }
    },
    {
      "cell_type": "code",
      "source": [
        "import statsmodels.formula.api as sm  #libreria para añadir y quitar variables de los modelos\n",
        "\n",
        "#agregando al conjunto de datos original columna de unidades adicionales \"Matriz de caracteristicas\" identificamos que variable independiente si debe ser parte del modelo y cual no\n",
        "X= np.append(arr = np.ones((50,1)).astype(int), values= X, axis= 1)#array de unos 50 unos por que el la cantidad de filas del dataset y 1 columna todo como datos entero axis 1 para columna\n"
      ],
      "metadata": {
        "id": "ojP1f17gt0dr"
      },
      "execution_count": 24,
      "outputs": []
    },
    {
      "cell_type": "code",
      "source": [
        "X #la primera columna de 1 es la que agregamos "
      ],
      "metadata": {
        "id": "67E2RKZ11jTC",
        "outputId": "b9f52474-ad8c-4531-8d45-17d762c475a4",
        "colab": {
          "base_uri": "https://localhost:8080/"
        }
      },
      "execution_count": 26,
      "outputs": [
        {
          "output_type": "execute_result",
          "data": {
            "text/plain": [
              "array([['1', '0.0', '1.0', '165349.2', '136897.8', '471784.1'],\n",
              "       ['1', '0.0', '0.0', '162597.7', '151377.59', '443898.53'],\n",
              "       ['1', '1.0', '0.0', '153441.51', '101145.55', '407934.54'],\n",
              "       ['1', '0.0', '1.0', '144372.41', '118671.85', '383199.62'],\n",
              "       ['1', '1.0', '0.0', '142107.34', '91391.77', '366168.42'],\n",
              "       ['1', '0.0', '1.0', '131876.9', '99814.71', '362861.36'],\n",
              "       ['1', '0.0', '0.0', '134615.46', '147198.87', '127716.82'],\n",
              "       ['1', '1.0', '0.0', '130298.13', '145530.06', '323876.68'],\n",
              "       ['1', '0.0', '1.0', '120542.52', '148718.95', '311613.29'],\n",
              "       ['1', '0.0', '0.0', '123334.88', '108679.17', '304981.62'],\n",
              "       ['1', '1.0', '0.0', '101913.08', '110594.11', '229160.95'],\n",
              "       ['1', '0.0', '0.0', '100671.96', '91790.61', '249744.55'],\n",
              "       ['1', '1.0', '0.0', '93863.75', '127320.38', '249839.44'],\n",
              "       ['1', '0.0', '0.0', '91992.39', '135495.07', '252664.93'],\n",
              "       ['1', '1.0', '0.0', '119943.24', '156547.42', '256512.92'],\n",
              "       ['1', '0.0', '1.0', '114523.61', '122616.84', '261776.23'],\n",
              "       ['1', '0.0', '0.0', '78013.11', '121597.55', '264346.06'],\n",
              "       ['1', '0.0', '1.0', '94657.16', '145077.58', '282574.31'],\n",
              "       ['1', '1.0', '0.0', '91749.16', '114175.79', '294919.57'],\n",
              "       ['1', '0.0', '1.0', '86419.7', '153514.11', '0.0'],\n",
              "       ['1', '0.0', '0.0', '76253.86', '113867.3', '298664.47'],\n",
              "       ['1', '0.0', '1.0', '78389.47', '153773.43', '299737.29'],\n",
              "       ['1', '1.0', '0.0', '73994.56', '122782.75', '303319.26'],\n",
              "       ['1', '1.0', '0.0', '67532.53', '105751.03', '304768.73'],\n",
              "       ['1', '0.0', '1.0', '77044.01', '99281.34', '140574.81'],\n",
              "       ['1', '0.0', '0.0', '64664.71', '139553.16', '137962.62'],\n",
              "       ['1', '1.0', '0.0', '75328.87', '144135.98', '134050.07'],\n",
              "       ['1', '0.0', '1.0', '72107.6', '127864.55', '353183.81'],\n",
              "       ['1', '1.0', '0.0', '66051.52', '182645.56', '118148.2'],\n",
              "       ['1', '0.0', '1.0', '65605.48', '153032.06', '107138.38'],\n",
              "       ['1', '1.0', '0.0', '61994.48', '115641.28', '91131.24'],\n",
              "       ['1', '0.0', '1.0', '61136.38', '152701.92', '88218.23'],\n",
              "       ['1', '0.0', '0.0', '63408.86', '129219.61', '46085.25'],\n",
              "       ['1', '1.0', '0.0', '55493.95', '103057.49', '214634.81'],\n",
              "       ['1', '0.0', '0.0', '46426.07', '157693.92', '210797.67'],\n",
              "       ['1', '0.0', '1.0', '46014.02', '85047.44', '205517.64'],\n",
              "       ['1', '1.0', '0.0', '28663.76', '127056.21', '201126.82'],\n",
              "       ['1', '0.0', '0.0', '44069.95', '51283.14', '197029.42'],\n",
              "       ['1', '0.0', '1.0', '20229.59', '65947.93', '185265.1'],\n",
              "       ['1', '0.0', '0.0', '38558.51', '82982.09', '174999.3'],\n",
              "       ['1', '0.0', '0.0', '28754.33', '118546.05', '172795.67'],\n",
              "       ['1', '1.0', '0.0', '27892.92', '84710.77', '164470.71'],\n",
              "       ['1', '0.0', '0.0', '23640.93', '96189.63', '148001.11'],\n",
              "       ['1', '0.0', '1.0', '15505.73', '127382.3', '35534.17'],\n",
              "       ['1', '0.0', '0.0', '22177.74', '154806.14', '28334.72'],\n",
              "       ['1', '0.0', '1.0', '1000.23', '124153.04', '1903.93'],\n",
              "       ['1', '1.0', '0.0', '1315.46', '115816.21', '297114.46'],\n",
              "       ['1', '0.0', '0.0', '0.0', '135426.92', '0.0'],\n",
              "       ['1', '0.0', '1.0', '542.05', '51743.15', '0.0'],\n",
              "       ['1', '0.0', '0.0', '0.0', '116983.8', '45173.06']], dtype='<U21')"
            ]
          },
          "metadata": {},
          "execution_count": 26
        }
      ]
    },
    {
      "cell_type": "markdown",
      "source": [
        "video 13"
      ],
      "metadata": {
        "id": "blQVECxZ191e"
      }
    }
  ]
}