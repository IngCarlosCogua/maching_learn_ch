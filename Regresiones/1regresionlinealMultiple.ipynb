{
  "nbformat": 4,
  "nbformat_minor": 0,
  "metadata": {
    "colab": {
      "name": "regresionlinealMultiple.ipynb",
      "provenance": [],
      "collapsed_sections": [],
      "mount_file_id": "1Nkk57Mzi87ZIvD4PZImJcme1oMK2_bDr",
      "authorship_tag": "ABX9TyPB1X2ZyEn467lajnE8rhQc",
      "include_colab_link": true
    },
    "kernelspec": {
      "name": "python3",
      "display_name": "Python 3"
    },
    "language_info": {
      "name": "python"
    }
  },
  "cells": [
    {
      "cell_type": "markdown",
      "metadata": {
        "id": "view-in-github",
        "colab_type": "text"
      },
      "source": [
        "<a href=\"https://colab.research.google.com/github/IngCarlosCogua/maching_learn_ch/blob/main/Regresiones/1regresionlinealMultiple.ipynb\" target=\"_parent\"><img src=\"https://colab.research.google.com/assets/colab-badge.svg\" alt=\"Open In Colab\"/></a>"
      ]
    },
    {
      "cell_type": "markdown",
      "source": [
        "**Regreseion lineal multiple**\n",
        "realizado por Ing Carlor anurlfo C\n",
        "--------------modificacion de 27 de julio del 2021----------\n",
        "\n",
        "\n",
        "**RESTRIGCIONES!! deben satisfacerse estos 5 conseptos**\n",
        "\n",
        "1.lINEALIDAD\n",
        "2.HOMOCEDASTICIDAD\n",
        "3. NORMALIDAD MULTIVARIABE\n",
        "4. INDEPENDENCIA DE LOS ERRORES\n",
        "5. AUSENCIA DE MULTICOLONIEALIDAD\n",
        "\n",
        "**PASO  A PASO PARA CREAR EL MODELO **\n",
        "-SELECCIONAR LAS VARIABLES CORRECTAS\n",
        "\n",
        "-METODO ALL-IN: apostarlo todo, no es recomendable hacerlo, todas las variables son predictoras en el dataframe no se descarta ninguna \n",
        "\n",
        "-SELECCION HACIA ATRAS: se hace en 5 pasos , elejir nivel de sginificacion Sl = 0,05, se calcula modelo con todas las posibles variables predictoras, se elejige la variable predictora con el Pvalor mas grande, se elimina la variable predictora con pvalor mas alto, se ajusta el modelo sin dicha variable\n",
        "\n",
        "-SELECCION HACIA ADELANTE: añadismo variables con pvalor inferior al nivel de significacion, se ajustan todos los modelos de regresionsimple con una variable, conservamos esa variable, consideramos la variable predictora con menor pvalor, fin\n",
        "\n",
        "\n",
        "-ELIMINACION BIDIRECCIONAL: combina los 2 pasos en 1, se selecciona nivel se ginificaion para modelo y ptrop para ser eliminado del modelo, `se hace una seleccion asia adelante,se lleva acabo todos los pasos de eliminacion hacia atras, repetimos el cliclo, se añad la mejor variable se quitan las que sobran\n",
        "\n",
        "-COMPARACION DE SCORES: fuerza bruta, se generan todos los metodos de regresion posibles y escojemos el que mas nos guste, no es olucion viable 10 columnas o variables de datos significan 1023 modelos para entrenar\n",
        "\n",
        " **texto en negrita**\n",
        "\n",
        "\n"
      ],
      "metadata": {
        "id": "LtaioMAcDY3r"
      }
    },
    {
      "cell_type": "markdown",
      "source": [
        "# **Vamos a predecir la columna 5 el beneficio de la empresa contando con 4 variables numericas y un categorica**"
      ],
      "metadata": {
        "id": "hBExblBMPiWU"
      }
    },
    {
      "cell_type": "code",
      "source": [
        "from google.colab import drive\n",
        "drive.mount('/content/drive')"
      ],
      "metadata": {
        "colab": {
          "base_uri": "https://localhost:8080/"
        },
        "id": "pttFCCFTb3L4",
        "outputId": "a584224b-fc99-4ea3-a857-fffbdc197156"
      },
      "execution_count": 1,
      "outputs": [
        {
          "output_type": "stream",
          "name": "stdout",
          "text": [
            "Mounted at /content/drive\n"
          ]
        }
      ]
    },
    {
      "cell_type": "markdown",
      "source": [
        "La regresion lineal multiple tiene mas variables independientes"
      ],
      "metadata": {
        "id": "Diz9V9Y5-n67"
      }
    },
    {
      "cell_type": "code",
      "execution_count": 2,
      "metadata": {
        "id": "xMLZ1FNz-yB8",
        "colab": {
          "base_uri": "https://localhost:8080/"
        },
        "outputId": "3f91b6f2-5c1d-4c53-c704-a46aa9b12420"
      },
      "outputs": [
        {
          "output_type": "stream",
          "name": "stdout",
          "text": [
            "<class 'pandas.core.frame.DataFrame'>\n",
            "RangeIndex: 50 entries, 0 to 49\n",
            "Data columns (total 5 columns):\n",
            " #   Column           Non-Null Count  Dtype  \n",
            "---  ------           --------------  -----  \n",
            " 0   R&D Spend        50 non-null     float64\n",
            " 1   Administration   50 non-null     float64\n",
            " 2   Marketing Spend  50 non-null     float64\n",
            " 3   State            50 non-null     object \n",
            " 4   Profit           50 non-null     float64\n",
            "dtypes: float64(4), object(1)\n",
            "memory usage: 2.1+ KB\n"
          ]
        }
      ],
      "source": [
        "#importacion de librerias\n",
        "import numpy as np #calculos matematicos cientificos\n",
        "import matplotlib.pyplot as plt #sublinreria para representacio  grafica\n",
        "import pandas as pd # libreria para carga y manipulacion de datos\n",
        "dataset = pd.read_csv('/content/drive/MyDrive/Analitica_Programadorch/Archivoscsv/50_Startups.csv')\n",
        "dataset.info() #informacion de filas y columnas del dataset"
      ]
    },
    {
      "cell_type": "code",
      "source": [
        "dataset.head()"
      ],
      "metadata": {
        "id": "mQFedjwZ_Ij9",
        "colab": {
          "base_uri": "https://localhost:8080/",
          "height": 206
        },
        "outputId": "80a31af2-26e9-458f-90af-af3e3eceaa60"
      },
      "execution_count": 3,
      "outputs": [
        {
          "output_type": "execute_result",
          "data": {
            "text/plain": [
              "   R&D Spend  Administration  Marketing Spend       State     Profit\n",
              "0  165349.20       136897.80        471784.10    New York  192261.83\n",
              "1  162597.70       151377.59        443898.53  California  191792.06\n",
              "2  153441.51       101145.55        407934.54     Florida  191050.39\n",
              "3  144372.41       118671.85        383199.62    New York  182901.99\n",
              "4  142107.34        91391.77        366168.42     Florida  166187.94"
            ],
            "text/html": [
              "\n",
              "  <div id=\"df-ac51c1ca-b5eb-412f-9253-0415f74c5834\">\n",
              "    <div class=\"colab-df-container\">\n",
              "      <div>\n",
              "<style scoped>\n",
              "    .dataframe tbody tr th:only-of-type {\n",
              "        vertical-align: middle;\n",
              "    }\n",
              "\n",
              "    .dataframe tbody tr th {\n",
              "        vertical-align: top;\n",
              "    }\n",
              "\n",
              "    .dataframe thead th {\n",
              "        text-align: right;\n",
              "    }\n",
              "</style>\n",
              "<table border=\"1\" class=\"dataframe\">\n",
              "  <thead>\n",
              "    <tr style=\"text-align: right;\">\n",
              "      <th></th>\n",
              "      <th>R&amp;D Spend</th>\n",
              "      <th>Administration</th>\n",
              "      <th>Marketing Spend</th>\n",
              "      <th>State</th>\n",
              "      <th>Profit</th>\n",
              "    </tr>\n",
              "  </thead>\n",
              "  <tbody>\n",
              "    <tr>\n",
              "      <th>0</th>\n",
              "      <td>165349.20</td>\n",
              "      <td>136897.80</td>\n",
              "      <td>471784.10</td>\n",
              "      <td>New York</td>\n",
              "      <td>192261.83</td>\n",
              "    </tr>\n",
              "    <tr>\n",
              "      <th>1</th>\n",
              "      <td>162597.70</td>\n",
              "      <td>151377.59</td>\n",
              "      <td>443898.53</td>\n",
              "      <td>California</td>\n",
              "      <td>191792.06</td>\n",
              "    </tr>\n",
              "    <tr>\n",
              "      <th>2</th>\n",
              "      <td>153441.51</td>\n",
              "      <td>101145.55</td>\n",
              "      <td>407934.54</td>\n",
              "      <td>Florida</td>\n",
              "      <td>191050.39</td>\n",
              "    </tr>\n",
              "    <tr>\n",
              "      <th>3</th>\n",
              "      <td>144372.41</td>\n",
              "      <td>118671.85</td>\n",
              "      <td>383199.62</td>\n",
              "      <td>New York</td>\n",
              "      <td>182901.99</td>\n",
              "    </tr>\n",
              "    <tr>\n",
              "      <th>4</th>\n",
              "      <td>142107.34</td>\n",
              "      <td>91391.77</td>\n",
              "      <td>366168.42</td>\n",
              "      <td>Florida</td>\n",
              "      <td>166187.94</td>\n",
              "    </tr>\n",
              "  </tbody>\n",
              "</table>\n",
              "</div>\n",
              "      <button class=\"colab-df-convert\" onclick=\"convertToInteractive('df-ac51c1ca-b5eb-412f-9253-0415f74c5834')\"\n",
              "              title=\"Convert this dataframe to an interactive table.\"\n",
              "              style=\"display:none;\">\n",
              "        \n",
              "  <svg xmlns=\"http://www.w3.org/2000/svg\" height=\"24px\"viewBox=\"0 0 24 24\"\n",
              "       width=\"24px\">\n",
              "    <path d=\"M0 0h24v24H0V0z\" fill=\"none\"/>\n",
              "    <path d=\"M18.56 5.44l.94 2.06.94-2.06 2.06-.94-2.06-.94-.94-2.06-.94 2.06-2.06.94zm-11 1L8.5 8.5l.94-2.06 2.06-.94-2.06-.94L8.5 2.5l-.94 2.06-2.06.94zm10 10l.94 2.06.94-2.06 2.06-.94-2.06-.94-.94-2.06-.94 2.06-2.06.94z\"/><path d=\"M17.41 7.96l-1.37-1.37c-.4-.4-.92-.59-1.43-.59-.52 0-1.04.2-1.43.59L10.3 9.45l-7.72 7.72c-.78.78-.78 2.05 0 2.83L4 21.41c.39.39.9.59 1.41.59.51 0 1.02-.2 1.41-.59l7.78-7.78 2.81-2.81c.8-.78.8-2.07 0-2.86zM5.41 20L4 18.59l7.72-7.72 1.47 1.35L5.41 20z\"/>\n",
              "  </svg>\n",
              "      </button>\n",
              "      \n",
              "  <style>\n",
              "    .colab-df-container {\n",
              "      display:flex;\n",
              "      flex-wrap:wrap;\n",
              "      gap: 12px;\n",
              "    }\n",
              "\n",
              "    .colab-df-convert {\n",
              "      background-color: #E8F0FE;\n",
              "      border: none;\n",
              "      border-radius: 50%;\n",
              "      cursor: pointer;\n",
              "      display: none;\n",
              "      fill: #1967D2;\n",
              "      height: 32px;\n",
              "      padding: 0 0 0 0;\n",
              "      width: 32px;\n",
              "    }\n",
              "\n",
              "    .colab-df-convert:hover {\n",
              "      background-color: #E2EBFA;\n",
              "      box-shadow: 0px 1px 2px rgba(60, 64, 67, 0.3), 0px 1px 3px 1px rgba(60, 64, 67, 0.15);\n",
              "      fill: #174EA6;\n",
              "    }\n",
              "\n",
              "    [theme=dark] .colab-df-convert {\n",
              "      background-color: #3B4455;\n",
              "      fill: #D2E3FC;\n",
              "    }\n",
              "\n",
              "    [theme=dark] .colab-df-convert:hover {\n",
              "      background-color: #434B5C;\n",
              "      box-shadow: 0px 1px 3px 1px rgba(0, 0, 0, 0.15);\n",
              "      filter: drop-shadow(0px 1px 2px rgba(0, 0, 0, 0.3));\n",
              "      fill: #FFFFFF;\n",
              "    }\n",
              "  </style>\n",
              "\n",
              "      <script>\n",
              "        const buttonEl =\n",
              "          document.querySelector('#df-ac51c1ca-b5eb-412f-9253-0415f74c5834 button.colab-df-convert');\n",
              "        buttonEl.style.display =\n",
              "          google.colab.kernel.accessAllowed ? 'block' : 'none';\n",
              "\n",
              "        async function convertToInteractive(key) {\n",
              "          const element = document.querySelector('#df-ac51c1ca-b5eb-412f-9253-0415f74c5834');\n",
              "          const dataTable =\n",
              "            await google.colab.kernel.invokeFunction('convertToInteractive',\n",
              "                                                     [key], {});\n",
              "          if (!dataTable) return;\n",
              "\n",
              "          const docLinkHtml = 'Like what you see? Visit the ' +\n",
              "            '<a target=\"_blank\" href=https://colab.research.google.com/notebooks/data_table.ipynb>data table notebook</a>'\n",
              "            + ' to learn more about interactive tables.';\n",
              "          element.innerHTML = '';\n",
              "          dataTable['output_type'] = 'display_data';\n",
              "          await google.colab.output.renderOutput(dataTable, element);\n",
              "          const docLink = document.createElement('div');\n",
              "          docLink.innerHTML = docLinkHtml;\n",
              "          element.appendChild(docLink);\n",
              "        }\n",
              "      </script>\n",
              "    </div>\n",
              "  </div>\n",
              "  "
            ]
          },
          "metadata": {},
          "execution_count": 3
        }
      ]
    },
    {
      "cell_type": "code",
      "source": [
        "#X es la variable independiente predictora  y Y es la variable dependiente a predecir\n",
        "#el dataset tiene 5 columnas debes tratar de que el valor a predecir este en la ultima columna para ignorarlo en X y yo Tomarlo en Y\n",
        "X = dataset.iloc[:,:-1].values #iloc sirve para localizar filas i columnas por posicion,[:,:-1] toma todas las filas y todas la columnas exepto la ultima en una array\n",
        "Y = dataset.iloc[:,4].values # toma todas la filas pero solo de la ultima columna"
      ],
      "metadata": {
        "id": "bCgzIwDa_La7"
      },
      "execution_count": 4,
      "outputs": []
    },
    {
      "cell_type": "markdown",
      "source": [
        "Viendo el contenido de los arrays X & Y"
      ],
      "metadata": {
        "id": "PS7muSAOQiNJ"
      }
    },
    {
      "cell_type": "code",
      "source": [
        "X"
      ],
      "metadata": {
        "id": "kklUgNPfQbiU",
        "colab": {
          "base_uri": "https://localhost:8080/"
        },
        "outputId": "a1bcc73e-7291-41fe-e5f1-6952d2aeff20"
      },
      "execution_count": 5,
      "outputs": [
        {
          "output_type": "execute_result",
          "data": {
            "text/plain": [
              "array([[165349.2, 136897.8, 471784.1, 'New York'],\n",
              "       [162597.7, 151377.59, 443898.53, 'California'],\n",
              "       [153441.51, 101145.55, 407934.54, 'Florida'],\n",
              "       [144372.41, 118671.85, 383199.62, 'New York'],\n",
              "       [142107.34, 91391.77, 366168.42, 'Florida'],\n",
              "       [131876.9, 99814.71, 362861.36, 'New York'],\n",
              "       [134615.46, 147198.87, 127716.82, 'California'],\n",
              "       [130298.13, 145530.06, 323876.68, 'Florida'],\n",
              "       [120542.52, 148718.95, 311613.29, 'New York'],\n",
              "       [123334.88, 108679.17, 304981.62, 'California'],\n",
              "       [101913.08, 110594.11, 229160.95, 'Florida'],\n",
              "       [100671.96, 91790.61, 249744.55, 'California'],\n",
              "       [93863.75, 127320.38, 249839.44, 'Florida'],\n",
              "       [91992.39, 135495.07, 252664.93, 'California'],\n",
              "       [119943.24, 156547.42, 256512.92, 'Florida'],\n",
              "       [114523.61, 122616.84, 261776.23, 'New York'],\n",
              "       [78013.11, 121597.55, 264346.06, 'California'],\n",
              "       [94657.16, 145077.58, 282574.31, 'New York'],\n",
              "       [91749.16, 114175.79, 294919.57, 'Florida'],\n",
              "       [86419.7, 153514.11, 0.0, 'New York'],\n",
              "       [76253.86, 113867.3, 298664.47, 'California'],\n",
              "       [78389.47, 153773.43, 299737.29, 'New York'],\n",
              "       [73994.56, 122782.75, 303319.26, 'Florida'],\n",
              "       [67532.53, 105751.03, 304768.73, 'Florida'],\n",
              "       [77044.01, 99281.34, 140574.81, 'New York'],\n",
              "       [64664.71, 139553.16, 137962.62, 'California'],\n",
              "       [75328.87, 144135.98, 134050.07, 'Florida'],\n",
              "       [72107.6, 127864.55, 353183.81, 'New York'],\n",
              "       [66051.52, 182645.56, 118148.2, 'Florida'],\n",
              "       [65605.48, 153032.06, 107138.38, 'New York'],\n",
              "       [61994.48, 115641.28, 91131.24, 'Florida'],\n",
              "       [61136.38, 152701.92, 88218.23, 'New York'],\n",
              "       [63408.86, 129219.61, 46085.25, 'California'],\n",
              "       [55493.95, 103057.49, 214634.81, 'Florida'],\n",
              "       [46426.07, 157693.92, 210797.67, 'California'],\n",
              "       [46014.02, 85047.44, 205517.64, 'New York'],\n",
              "       [28663.76, 127056.21, 201126.82, 'Florida'],\n",
              "       [44069.95, 51283.14, 197029.42, 'California'],\n",
              "       [20229.59, 65947.93, 185265.1, 'New York'],\n",
              "       [38558.51, 82982.09, 174999.3, 'California'],\n",
              "       [28754.33, 118546.05, 172795.67, 'California'],\n",
              "       [27892.92, 84710.77, 164470.71, 'Florida'],\n",
              "       [23640.93, 96189.63, 148001.11, 'California'],\n",
              "       [15505.73, 127382.3, 35534.17, 'New York'],\n",
              "       [22177.74, 154806.14, 28334.72, 'California'],\n",
              "       [1000.23, 124153.04, 1903.93, 'New York'],\n",
              "       [1315.46, 115816.21, 297114.46, 'Florida'],\n",
              "       [0.0, 135426.92, 0.0, 'California'],\n",
              "       [542.05, 51743.15, 0.0, 'New York'],\n",
              "       [0.0, 116983.8, 45173.06, 'California']], dtype=object)"
            ]
          },
          "metadata": {},
          "execution_count": 5
        }
      ]
    },
    {
      "cell_type": "code",
      "source": [
        "Y"
      ],
      "metadata": {
        "id": "LrpuPpBOOMJw",
        "colab": {
          "base_uri": "https://localhost:8080/"
        },
        "outputId": "6fbb51fc-025d-4b8c-9ae9-03eb8d191564"
      },
      "execution_count": 6,
      "outputs": [
        {
          "output_type": "execute_result",
          "data": {
            "text/plain": [
              "array([192261.83, 191792.06, 191050.39, 182901.99, 166187.94, 156991.12,\n",
              "       156122.51, 155752.6 , 152211.77, 149759.96, 146121.95, 144259.4 ,\n",
              "       141585.52, 134307.35, 132602.65, 129917.04, 126992.93, 125370.37,\n",
              "       124266.9 , 122776.86, 118474.03, 111313.02, 110352.25, 108733.99,\n",
              "       108552.04, 107404.34, 105733.54, 105008.31, 103282.38, 101004.64,\n",
              "        99937.59,  97483.56,  97427.84,  96778.92,  96712.8 ,  96479.51,\n",
              "        90708.19,  89949.14,  81229.06,  81005.76,  78239.91,  77798.83,\n",
              "        71498.49,  69758.98,  65200.33,  64926.08,  49490.75,  42559.73,\n",
              "        35673.41,  14681.4 ])"
            ]
          },
          "metadata": {},
          "execution_count": 6
        }
      ]
    },
    {
      "cell_type": "markdown",
      "source": [
        "## **Tratamiendo de Datos Categoricos strings, codificacion, cardinales SI o No**"
      ],
      "metadata": {
        "id": "tFbcdOuH_rRl"
      }
    },
    {
      "cell_type": "code",
      "source": [
        "dataset['State'].unique() #primero identificamos los datos unicos strings de la columna "
      ],
      "metadata": {
        "id": "hDOseN4z_oxL",
        "colab": {
          "base_uri": "https://localhost:8080/"
        },
        "outputId": "60a69fce-b758-47d7-dac8-42c5101dd60a"
      },
      "execution_count": 7,
      "outputs": [
        {
          "output_type": "execute_result",
          "data": {
            "text/plain": [
              "array(['New York', 'California', 'Florida'], dtype=object)"
            ]
          },
          "metadata": {},
          "execution_count": 7
        }
      ]
    },
    {
      "cell_type": "markdown",
      "source": [
        "**Recodificando los valores strings a numericos**"
      ],
      "metadata": {
        "id": "HlhAIM7eJoMm"
      }
    },
    {
      "cell_type": "code",
      "source": [
        "from sklearn.preprocessing import LabelEncoder  # importanto el constructor\n",
        "#codificador de las variables , constructor \n",
        "LabelEncoder_X = LabelEncoder()\n",
        "#damos la instruccion de que reemplace los datos de la columna dependiente en datos numericos\n",
        "X[: ,3] =LabelEncoder_X.fit_transform(X[:,3])#recodifica los valores de todas las filas de la primera columna"
      ],
      "metadata": {
        "id": "BptFlrX0Iexo"
      },
      "execution_count": 8,
      "outputs": []
    },
    {
      "cell_type": "markdown",
      "source": [
        "esto a reasiganando los valores de france como un 0, spain como un 1 y germany como un 2"
      ],
      "metadata": {
        "id": "AiWrKNQ4JaT-"
      }
    },
    {
      "cell_type": "code",
      "source": [
        "X #verificamos la variable predictora x con los valores strings convertidos en numeros"
      ],
      "metadata": {
        "id": "Qm4z_x6BMCLS",
        "colab": {
          "base_uri": "https://localhost:8080/"
        },
        "outputId": "418b40e8-af2d-4c7f-bafa-7163cd464bd9"
      },
      "execution_count": 9,
      "outputs": [
        {
          "output_type": "execute_result",
          "data": {
            "text/plain": [
              "array([[165349.2, 136897.8, 471784.1, 2],\n",
              "       [162597.7, 151377.59, 443898.53, 0],\n",
              "       [153441.51, 101145.55, 407934.54, 1],\n",
              "       [144372.41, 118671.85, 383199.62, 2],\n",
              "       [142107.34, 91391.77, 366168.42, 1],\n",
              "       [131876.9, 99814.71, 362861.36, 2],\n",
              "       [134615.46, 147198.87, 127716.82, 0],\n",
              "       [130298.13, 145530.06, 323876.68, 1],\n",
              "       [120542.52, 148718.95, 311613.29, 2],\n",
              "       [123334.88, 108679.17, 304981.62, 0],\n",
              "       [101913.08, 110594.11, 229160.95, 1],\n",
              "       [100671.96, 91790.61, 249744.55, 0],\n",
              "       [93863.75, 127320.38, 249839.44, 1],\n",
              "       [91992.39, 135495.07, 252664.93, 0],\n",
              "       [119943.24, 156547.42, 256512.92, 1],\n",
              "       [114523.61, 122616.84, 261776.23, 2],\n",
              "       [78013.11, 121597.55, 264346.06, 0],\n",
              "       [94657.16, 145077.58, 282574.31, 2],\n",
              "       [91749.16, 114175.79, 294919.57, 1],\n",
              "       [86419.7, 153514.11, 0.0, 2],\n",
              "       [76253.86, 113867.3, 298664.47, 0],\n",
              "       [78389.47, 153773.43, 299737.29, 2],\n",
              "       [73994.56, 122782.75, 303319.26, 1],\n",
              "       [67532.53, 105751.03, 304768.73, 1],\n",
              "       [77044.01, 99281.34, 140574.81, 2],\n",
              "       [64664.71, 139553.16, 137962.62, 0],\n",
              "       [75328.87, 144135.98, 134050.07, 1],\n",
              "       [72107.6, 127864.55, 353183.81, 2],\n",
              "       [66051.52, 182645.56, 118148.2, 1],\n",
              "       [65605.48, 153032.06, 107138.38, 2],\n",
              "       [61994.48, 115641.28, 91131.24, 1],\n",
              "       [61136.38, 152701.92, 88218.23, 2],\n",
              "       [63408.86, 129219.61, 46085.25, 0],\n",
              "       [55493.95, 103057.49, 214634.81, 1],\n",
              "       [46426.07, 157693.92, 210797.67, 0],\n",
              "       [46014.02, 85047.44, 205517.64, 2],\n",
              "       [28663.76, 127056.21, 201126.82, 1],\n",
              "       [44069.95, 51283.14, 197029.42, 0],\n",
              "       [20229.59, 65947.93, 185265.1, 2],\n",
              "       [38558.51, 82982.09, 174999.3, 0],\n",
              "       [28754.33, 118546.05, 172795.67, 0],\n",
              "       [27892.92, 84710.77, 164470.71, 1],\n",
              "       [23640.93, 96189.63, 148001.11, 0],\n",
              "       [15505.73, 127382.3, 35534.17, 2],\n",
              "       [22177.74, 154806.14, 28334.72, 0],\n",
              "       [1000.23, 124153.04, 1903.93, 2],\n",
              "       [1315.46, 115816.21, 297114.46, 1],\n",
              "       [0.0, 135426.92, 0.0, 0],\n",
              "       [542.05, 51743.15, 0.0, 2],\n",
              "       [0.0, 116983.8, 45173.06, 0]], dtype=object)"
            ]
          },
          "metadata": {},
          "execution_count": 9
        }
      ]
    },
    {
      "cell_type": "markdown",
      "source": [
        "# **Variables Falsas o  Dumi , recategorizar los valores de la columna string convirtiendo cada valor en columnas y validar su categorizacion con 1 y 0**"
      ],
      "metadata": {
        "id": "LPqqCIGuUKAd"
      }
    },
    {
      "cell_type": "code",
      "source": [
        "#librerias para decodificar los valores numericos a valores dumi\n",
        "# 1 true 0 false\n",
        "from sklearn.preprocessing import OneHotEncoder\n",
        "from sklearn.compose import ColumnTransformer\n",
        "# usando el contructor columnTransformer para tranformar la columna 0 de la variable X en variable dumi columnas de unos y ceros\n",
        "columnTransformer = ColumnTransformer([('encoder', OneHotEncoder(), [3])], remainder='passthrough')\n",
        "# Entrenando y reemplazando los datos en la variable x \n",
        "X = np.array(columnTransformer.fit_transform(X), dtype = np.str)\n",
        "#en este caso solo hay 3 paises por lo tanto se crearan 3 variables dumi pero debemos eliminar 1 \n",
        "# debemos evitar la trampa de las variables ficticias dumi, si tiene 3 string solo 2  variables dumi deberian ser parte del modelo eliminamos la primera columna\n",
        "X = X[:,1:] #reasignar valores a x desde la columna 1 en adelante lo que quiere decir que la columna 0 se omite\n",
        "\n",
        "print(X)"
      ],
      "metadata": {
        "id": "AgMfQSICTmfl",
        "colab": {
          "base_uri": "https://localhost:8080/"
        },
        "outputId": "1fbf12a6-7c57-4c29-db8f-9e481451658d"
      },
      "execution_count": 10,
      "outputs": [
        {
          "output_type": "stream",
          "name": "stdout",
          "text": [
            "[['0.0' '1.0' '165349.2' '136897.8' '471784.1']\n",
            " ['0.0' '0.0' '162597.7' '151377.59' '443898.53']\n",
            " ['1.0' '0.0' '153441.51' '101145.55' '407934.54']\n",
            " ['0.0' '1.0' '144372.41' '118671.85' '383199.62']\n",
            " ['1.0' '0.0' '142107.34' '91391.77' '366168.42']\n",
            " ['0.0' '1.0' '131876.9' '99814.71' '362861.36']\n",
            " ['0.0' '0.0' '134615.46' '147198.87' '127716.82']\n",
            " ['1.0' '0.0' '130298.13' '145530.06' '323876.68']\n",
            " ['0.0' '1.0' '120542.52' '148718.95' '311613.29']\n",
            " ['0.0' '0.0' '123334.88' '108679.17' '304981.62']\n",
            " ['1.0' '0.0' '101913.08' '110594.11' '229160.95']\n",
            " ['0.0' '0.0' '100671.96' '91790.61' '249744.55']\n",
            " ['1.0' '0.0' '93863.75' '127320.38' '249839.44']\n",
            " ['0.0' '0.0' '91992.39' '135495.07' '252664.93']\n",
            " ['1.0' '0.0' '119943.24' '156547.42' '256512.92']\n",
            " ['0.0' '1.0' '114523.61' '122616.84' '261776.23']\n",
            " ['0.0' '0.0' '78013.11' '121597.55' '264346.06']\n",
            " ['0.0' '1.0' '94657.16' '145077.58' '282574.31']\n",
            " ['1.0' '0.0' '91749.16' '114175.79' '294919.57']\n",
            " ['0.0' '1.0' '86419.7' '153514.11' '0.0']\n",
            " ['0.0' '0.0' '76253.86' '113867.3' '298664.47']\n",
            " ['0.0' '1.0' '78389.47' '153773.43' '299737.29']\n",
            " ['1.0' '0.0' '73994.56' '122782.75' '303319.26']\n",
            " ['1.0' '0.0' '67532.53' '105751.03' '304768.73']\n",
            " ['0.0' '1.0' '77044.01' '99281.34' '140574.81']\n",
            " ['0.0' '0.0' '64664.71' '139553.16' '137962.62']\n",
            " ['1.0' '0.0' '75328.87' '144135.98' '134050.07']\n",
            " ['0.0' '1.0' '72107.6' '127864.55' '353183.81']\n",
            " ['1.0' '0.0' '66051.52' '182645.56' '118148.2']\n",
            " ['0.0' '1.0' '65605.48' '153032.06' '107138.38']\n",
            " ['1.0' '0.0' '61994.48' '115641.28' '91131.24']\n",
            " ['0.0' '1.0' '61136.38' '152701.92' '88218.23']\n",
            " ['0.0' '0.0' '63408.86' '129219.61' '46085.25']\n",
            " ['1.0' '0.0' '55493.95' '103057.49' '214634.81']\n",
            " ['0.0' '0.0' '46426.07' '157693.92' '210797.67']\n",
            " ['0.0' '1.0' '46014.02' '85047.44' '205517.64']\n",
            " ['1.0' '0.0' '28663.76' '127056.21' '201126.82']\n",
            " ['0.0' '0.0' '44069.95' '51283.14' '197029.42']\n",
            " ['0.0' '1.0' '20229.59' '65947.93' '185265.1']\n",
            " ['0.0' '0.0' '38558.51' '82982.09' '174999.3']\n",
            " ['0.0' '0.0' '28754.33' '118546.05' '172795.67']\n",
            " ['1.0' '0.0' '27892.92' '84710.77' '164470.71']\n",
            " ['0.0' '0.0' '23640.93' '96189.63' '148001.11']\n",
            " ['0.0' '1.0' '15505.73' '127382.3' '35534.17']\n",
            " ['0.0' '0.0' '22177.74' '154806.14' '28334.72']\n",
            " ['0.0' '1.0' '1000.23' '124153.04' '1903.93']\n",
            " ['1.0' '0.0' '1315.46' '115816.21' '297114.46']\n",
            " ['0.0' '0.0' '0.0' '135426.92' '0.0']\n",
            " ['0.0' '1.0' '542.05' '51743.15' '0.0']\n",
            " ['0.0' '0.0' '0.0' '116983.8' '45173.06']]\n"
          ]
        },
        {
          "output_type": "stream",
          "name": "stderr",
          "text": [
            "/usr/local/lib/python3.7/dist-packages/ipykernel_launcher.py:8: DeprecationWarning: `np.str` is a deprecated alias for the builtin `str`. To silence this warning, use `str` by itself. Doing this will not modify any behavior and is safe. If you specifically wanted the numpy scalar type, use `np.str_` here.\n",
            "Deprecated in NumPy 1.20; for more details and guidance: https://numpy.org/devdocs/release/1.20.0-notes.html#deprecations\n",
            "  \n"
          ]
        }
      ]
    },
    {
      "cell_type": "markdown",
      "source": [
        "# **Division de dataset Para Entrenamiento y Testeo**"
      ],
      "metadata": {
        "id": "-R6EHkhC_jF1"
      }
    },
    {
      "cell_type": "markdown",
      "source": [
        "del 100% de  los datos tomamos el 80 o 70 % para entrenan y el restante lo dejamos para evaluar su efectividad"
      ],
      "metadata": {
        "id": "V834wqYO_7rr"
      }
    },
    {
      "cell_type": "code",
      "source": [
        "from sklearn.model_selection import train_test_split # funcion que nos permite dividir el dataset original"
      ],
      "metadata": {
        "id": "LwMjQ7Oq_t-7"
      },
      "execution_count": 11,
      "outputs": []
    },
    {
      "cell_type": "markdown",
      "source": [
        "Dividiendo las variables"
      ],
      "metadata": {
        "id": "XQfZzN5TCY2D"
      }
    },
    {
      "cell_type": "code",
      "source": [
        "#variables de entrenaiento y testeo   division de dataset \n",
        "X_train, X_test, Y_train, Y_test = train_test_split(X, Y, test_size= 0.2, random_state= 0 ) #80% de los datos o filas son para entrenaiento y 20 para testeo"
      ],
      "metadata": {
        "id": "pCy5wRpNBCcU"
      },
      "execution_count": 12,
      "outputs": []
    },
    {
      "cell_type": "markdown",
      "source": [
        "**arrays de entrenamiento**"
      ],
      "metadata": {
        "id": "my-mf2QtwBJW"
      }
    },
    {
      "cell_type": "code",
      "source": [
        "X_train"
      ],
      "metadata": {
        "id": "hxiu-BqGv8Wr",
        "outputId": "0305afe3-3822-4c89-ccbc-e0dfae52a49b",
        "colab": {
          "base_uri": "https://localhost:8080/"
        }
      },
      "execution_count": 13,
      "outputs": [
        {
          "output_type": "execute_result",
          "data": {
            "text/plain": [
              "array([['1.0', '0.0', '55493.95', '103057.49', '214634.81'],\n",
              "       ['0.0', '1.0', '46014.02', '85047.44', '205517.64'],\n",
              "       ['1.0', '0.0', '75328.87', '144135.98', '134050.07'],\n",
              "       ['0.0', '0.0', '46426.07', '157693.92', '210797.67'],\n",
              "       ['1.0', '0.0', '91749.16', '114175.79', '294919.57'],\n",
              "       ['1.0', '0.0', '130298.13', '145530.06', '323876.68'],\n",
              "       ['1.0', '0.0', '119943.24', '156547.42', '256512.92'],\n",
              "       ['0.0', '1.0', '1000.23', '124153.04', '1903.93'],\n",
              "       ['0.0', '1.0', '542.05', '51743.15', '0.0'],\n",
              "       ['0.0', '1.0', '65605.48', '153032.06', '107138.38'],\n",
              "       ['0.0', '1.0', '114523.61', '122616.84', '261776.23'],\n",
              "       ['1.0', '0.0', '61994.48', '115641.28', '91131.24'],\n",
              "       ['0.0', '0.0', '63408.86', '129219.61', '46085.25'],\n",
              "       ['0.0', '0.0', '78013.11', '121597.55', '264346.06'],\n",
              "       ['0.0', '0.0', '23640.93', '96189.63', '148001.11'],\n",
              "       ['0.0', '0.0', '76253.86', '113867.3', '298664.47'],\n",
              "       ['0.0', '1.0', '15505.73', '127382.3', '35534.17'],\n",
              "       ['0.0', '1.0', '120542.52', '148718.95', '311613.29'],\n",
              "       ['0.0', '0.0', '91992.39', '135495.07', '252664.93'],\n",
              "       ['0.0', '0.0', '64664.71', '139553.16', '137962.62'],\n",
              "       ['0.0', '1.0', '131876.9', '99814.71', '362861.36'],\n",
              "       ['0.0', '1.0', '94657.16', '145077.58', '282574.31'],\n",
              "       ['0.0', '0.0', '28754.33', '118546.05', '172795.67'],\n",
              "       ['0.0', '0.0', '0.0', '116983.8', '45173.06'],\n",
              "       ['0.0', '0.0', '162597.7', '151377.59', '443898.53'],\n",
              "       ['1.0', '0.0', '93863.75', '127320.38', '249839.44'],\n",
              "       ['0.0', '0.0', '44069.95', '51283.14', '197029.42'],\n",
              "       ['0.0', '1.0', '77044.01', '99281.34', '140574.81'],\n",
              "       ['0.0', '0.0', '134615.46', '147198.87', '127716.82'],\n",
              "       ['1.0', '0.0', '67532.53', '105751.03', '304768.73'],\n",
              "       ['1.0', '0.0', '28663.76', '127056.21', '201126.82'],\n",
              "       ['0.0', '1.0', '78389.47', '153773.43', '299737.29'],\n",
              "       ['0.0', '1.0', '86419.7', '153514.11', '0.0'],\n",
              "       ['0.0', '0.0', '123334.88', '108679.17', '304981.62'],\n",
              "       ['0.0', '0.0', '38558.51', '82982.09', '174999.3'],\n",
              "       ['1.0', '0.0', '1315.46', '115816.21', '297114.46'],\n",
              "       ['0.0', '1.0', '144372.41', '118671.85', '383199.62'],\n",
              "       ['0.0', '1.0', '165349.2', '136897.8', '471784.1'],\n",
              "       ['0.0', '0.0', '0.0', '135426.92', '0.0'],\n",
              "       ['0.0', '0.0', '22177.74', '154806.14', '28334.72']], dtype='<U9')"
            ]
          },
          "metadata": {},
          "execution_count": 13
        }
      ]
    },
    {
      "cell_type": "code",
      "source": [
        "Y_train"
      ],
      "metadata": {
        "id": "dFMgVyViwLRC",
        "outputId": "14fd7349-5fc5-4148-c056-6a0d14e45ced",
        "colab": {
          "base_uri": "https://localhost:8080/"
        }
      },
      "execution_count": 14,
      "outputs": [
        {
          "output_type": "execute_result",
          "data": {
            "text/plain": [
              "array([ 96778.92,  96479.51, 105733.54,  96712.8 , 124266.9 , 155752.6 ,\n",
              "       132602.65,  64926.08,  35673.41, 101004.64, 129917.04,  99937.59,\n",
              "        97427.84, 126992.93,  71498.49, 118474.03,  69758.98, 152211.77,\n",
              "       134307.35, 107404.34, 156991.12, 125370.37,  78239.91,  14681.4 ,\n",
              "       191792.06, 141585.52,  89949.14, 108552.04, 156122.51, 108733.99,\n",
              "        90708.19, 111313.02, 122776.86, 149759.96,  81005.76,  49490.75,\n",
              "       182901.99, 192261.83,  42559.73,  65200.33])"
            ]
          },
          "metadata": {},
          "execution_count": 14
        }
      ]
    },
    {
      "cell_type": "markdown",
      "source": [
        "**Arrays de testeo**"
      ],
      "metadata": {
        "id": "SPlfKJVAHFRB"
      }
    },
    {
      "cell_type": "code",
      "source": [
        "X_test"
      ],
      "metadata": {
        "id": "jmrBqhAjwYdk",
        "outputId": "90023b22-9ecb-49b3-d43f-a9048d631c92",
        "colab": {
          "base_uri": "https://localhost:8080/"
        }
      },
      "execution_count": 15,
      "outputs": [
        {
          "output_type": "execute_result",
          "data": {
            "text/plain": [
              "array([['1.0', '0.0', '66051.52', '182645.56', '118148.2'],\n",
              "       ['0.0', '0.0', '100671.96', '91790.61', '249744.55'],\n",
              "       ['1.0', '0.0', '101913.08', '110594.11', '229160.95'],\n",
              "       ['1.0', '0.0', '27892.92', '84710.77', '164470.71'],\n",
              "       ['1.0', '0.0', '153441.51', '101145.55', '407934.54'],\n",
              "       ['0.0', '1.0', '72107.6', '127864.55', '353183.81'],\n",
              "       ['0.0', '1.0', '20229.59', '65947.93', '185265.1'],\n",
              "       ['0.0', '1.0', '61136.38', '152701.92', '88218.23'],\n",
              "       ['1.0', '0.0', '73994.56', '122782.75', '303319.26'],\n",
              "       ['1.0', '0.0', '142107.34', '91391.77', '366168.42']], dtype='<U9')"
            ]
          },
          "metadata": {},
          "execution_count": 15
        }
      ]
    },
    {
      "cell_type": "code",
      "source": [
        "Y_test"
      ],
      "metadata": {
        "id": "_55g_j1VwbYW",
        "outputId": "09b05130-e8b0-41ba-bf75-df83754d8de2",
        "colab": {
          "base_uri": "https://localhost:8080/"
        }
      },
      "execution_count": 16,
      "outputs": [
        {
          "output_type": "execute_result",
          "data": {
            "text/plain": [
              "array([103282.38, 144259.4 , 146121.95,  77798.83, 191050.39, 105008.31,\n",
              "        81229.06,  97483.56, 110352.25, 166187.94])"
            ]
          },
          "metadata": {},
          "execution_count": 16
        }
      ]
    },
    {
      "cell_type": "markdown",
      "source": [
        "# **Ajustando el modelo de regresion lineal multiople con el j¡conjunto de entrenamiento**"
      ],
      "metadata": {
        "id": "k-QAQegfmnQu"
      }
    },
    {
      "cell_type": "code",
      "source": [
        "from sklearn.linear_model import LinearRegression\n",
        "regresion = LinearRegression() #creando el objeto regresion\n",
        "regresion.fit(X_train, Y_train) #realizando la regresion con las variables de entrenamieto"
      ],
      "metadata": {
        "id": "_j0jIl5ZmuPu"
      },
      "execution_count": null,
      "outputs": []
    },
    {
      "cell_type": "markdown",
      "source": [
        "Hasta este punto ya esta entrenado el conjunto de datos"
      ],
      "metadata": {
        "id": "uVHbJnm4pxyw"
      }
    },
    {
      "cell_type": "markdown",
      "source": [
        ""
      ],
      "metadata": {
        "id": "eVtZs0yzp1wl"
      }
    }
  ]
}