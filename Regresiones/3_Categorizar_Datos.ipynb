{
  "nbformat": 4,
  "nbformat_minor": 0,
  "metadata": {
    "colab": {
      "name": "3.Categorizar_Datos",
      "provenance": [],
      "collapsed_sections": [],
      "mount_file_id": "1rDyPkUCaKfUy6VPuamy0orZy4sW1QgKF",
      "authorship_tag": "ABX9TyORpfPz0qxZHvWVRU4YCVKQ",
      "include_colab_link": true
    },
    "kernelspec": {
      "name": "python3",
      "display_name": "Python 3"
    },
    "language_info": {
      "name": "python"
    }
  },
  "cells": [
    {
      "cell_type": "markdown",
      "metadata": {
        "id": "view-in-github",
        "colab_type": "text"
      },
      "source": [
        "<a href=\"https://colab.research.google.com/github/IngCarlosCogua/maching_learn_ch/blob/main/Regresiones/3_Categorizar_Datos.ipynb\" target=\"_parent\"><img src=\"https://colab.research.google.com/assets/colab-badge.svg\" alt=\"Open In Colab\"/></a>"
      ]
    },
    {
      "cell_type": "markdown",
      "source": [
        "# **Preparacion para datos categoricos strings**\n"
      ],
      "metadata": {
        "id": "pFne-c7B_1f2"
      }
    },
    {
      "cell_type": "code",
      "execution_count": null,
      "metadata": {
        "id": "xMLZ1FNz-yB8"
      },
      "outputs": [],
      "source": [
        "#importacion de librerias\n",
        "import numpy as np #calculos matematicos cientificos\n",
        "import matplotlib.pyplot as plt #sublinreria para representacio  grafica\n",
        "import pandas as pd # libreria para carga y manipulacion de datos\n",
        "dataset = pd.read_csv('/content/drive/MyDrive/Analitica_Programadorch/Archivoscsv/Data.csv')\n",
        "dataset.info() #informacion de filas y columnas del dataset"
      ]
    },
    {
      "cell_type": "code",
      "source": [
        "dataset"
      ],
      "metadata": {
        "id": "mQFedjwZ_Ij9"
      },
      "execution_count": null,
      "outputs": []
    },
    {
      "cell_type": "markdown",
      "source": [
        "**Dividiendo las variables predicotras X y la variable a predecir Y**"
      ],
      "metadata": {
        "id": "qazksecF_SgD"
      }
    },
    {
      "cell_type": "markdown",
      "source": [
        "La idea es dividir el datrafame en 2 partes nuevas para no afectarlo X y Y por columnas donde una cantidad de datos predeciran los resultados de los datos de Y"
      ],
      "metadata": {
        "id": "DgnLaUp-_PX8"
      }
    },
    {
      "cell_type": "code",
      "source": [
        "#X es la variable independiente predictora  y Y es la variable dependiente a predecir\n",
        "X = dataset.iloc[:,:-1].values #iloc sirve para localizar filas i columnas por posicion,[:,:-1] toma todas las filas y todas la columnas exepto la ultima en una array\n",
        "\n",
        "Y = dataset.iloc[:,3].values # toma todas la filas pero solo de la ultima columna"
      ],
      "metadata": {
        "id": "bCgzIwDa_La7"
      },
      "execution_count": null,
      "outputs": []
    },
    {
      "cell_type": "markdown",
      "source": [
        "## **Tratamiendo de Datos Categoricos strings, codificacion, cardinales SI o No**"
      ],
      "metadata": {
        "id": "tFbcdOuH_rRl"
      }
    },
    {
      "cell_type": "code",
      "source": [
        "dataset['Country'].unique() #primero identificamos los datos unicos strings de la columna "
      ],
      "metadata": {
        "id": "hDOseN4z_oxL"
      },
      "execution_count": null,
      "outputs": []
    },
    {
      "cell_type": "markdown",
      "source": [
        "**Recodificando los valores strings a numericos**"
      ],
      "metadata": {
        "id": "HlhAIM7eJoMm"
      }
    },
    {
      "cell_type": "code",
      "source": [
        "from sklearn.preprocessing import LabelEncoder  # importanto el constructor\n",
        "#codificador de las variables , constructor \n",
        "LabelEncoder_X = LabelEncoder()\n",
        "#damos la instruccion de que reemplace los datos de la primera columna 0 con los de labelencoder_x (0,1,2)\n",
        "X[: ,0] =LabelEncoder_X.fit_transform(X[:,0])#recodifica los valores de todas las filas de la primera columna"
      ],
      "metadata": {
        "id": "BptFlrX0Iexo"
      },
      "execution_count": null,
      "outputs": []
    },
    {
      "cell_type": "markdown",
      "source": [
        "esto a reasiganando los valores de france como un 0, spain como un 1 y germany como un 2"
      ],
      "metadata": {
        "id": "AiWrKNQ4JaT-"
      }
    },
    {
      "cell_type": "code",
      "source": [
        "X #verificamos la variable predictora x con los valores strings convertidos en numeros"
      ],
      "metadata": {
        "id": "Qm4z_x6BMCLS"
      },
      "execution_count": null,
      "outputs": []
    },
    {
      "cell_type": "markdown",
      "source": [
        "# **Variables Dumin , tenemos que reordenar los valores de los paices en 3 columnas y validar su categorizacion con 1 y 0**"
      ],
      "metadata": {
        "id": "LPqqCIGuUKAd"
      }
    },
    {
      "cell_type": "code",
      "source": [
        "dataset['Country'].unique() #mostrando valores unicos de la columna 0 de dataframe que es la mism de X"
      ],
      "metadata": {
        "id": "BUGxzjSqbMkJ"
      },
      "execution_count": null,
      "outputs": []
    },
    {
      "cell_type": "code",
      "source": [
        "#librerias para decodificar los valores 0 fracia, 1 spain, 2 germany en 3 columnas y marcar con 1 o 0 el pais\n",
        "#la columna 1 es fracia, la columna3 españa y columna 2 alemannia\n",
        "# 1 true 0 false\n",
        "from sklearn.preprocessing import OneHotEncoder\n",
        "from sklearn.compose import ColumnTransformer\n",
        "# usando el contructor columnTransformer para tranformar la columna 0 de la variable X en variable dumi columnas de unos y ceros\n",
        "columnTransformer = ColumnTransformer([('encoder', OneHotEncoder(), [0])], remainder='passthrough')\n",
        "#reemplazando los datos en la variable x \n",
        "X = np.array(columnTransformer.fit_transform(X), dtype = np.str)\n",
        "\n",
        "print(X)"
      ],
      "metadata": {
        "id": "AgMfQSICTmfl"
      },
      "execution_count": null,
      "outputs": []
    },
    {
      "cell_type": "code",
      "source": [
        "\n",
        "#etiquteando el dataset Y para predecir o respuesta con 1 y 0 original mente los valores eran si o no osea variables ordinales \n",
        "labelencoder_y = LabelEncoder()\n",
        "Y = labelencoder_y.fit_transform(Y) #reasignando los valore del dataset Y\n",
        "Y #imprimiendo los valores ,  los valores que antes rean si y no ahora sn¡on 1 y cero "
      ],
      "metadata": {
        "colab": {
          "base_uri": "https://localhost:8080/"
        },
        "id": "VFPUcPDwuGm8",
        "outputId": "c56c48ab-01f8-4082-bcc0-b1a47c1e77f2"
      },
      "execution_count": null,
      "outputs": [
        {
          "output_type": "execute_result",
          "data": {
            "text/plain": [
              "array([0, 1, 0, 0, 1, 1, 0, 1, 0, 1])"
            ]
          },
          "metadata": {},
          "execution_count": 11
        }
      ]
    }
  ]
}