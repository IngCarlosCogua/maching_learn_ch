{
  "nbformat": 4,
  "nbformat_minor": 0,
  "metadata": {
    "colab": {
      "name": "funcioncolab.ipynb",
      "provenance": [],
      "authorship_tag": "ABX9TyMoXwYOt9qI83s1PVJZPWYe",
      "include_colab_link": true
    },
    "kernelspec": {
      "name": "python3",
      "display_name": "Python 3"
    },
    "language_info": {
      "name": "python"
    }
  },
  "cells": [
    {
      "cell_type": "markdown",
      "metadata": {
        "id": "view-in-github",
        "colab_type": "text"
      },
      "source": [
        "<a href=\"https://colab.research.google.com/github/IngCarlosCogua/maching_learn_ch/blob/main/metodonumeros/funcioncolab.ipynb\" target=\"_parent\"><img src=\"https://colab.research.google.com/assets/colab-badge.svg\" alt=\"Open In Colab\"/></a>"
      ]
    },
    {
      "cell_type": "code",
      "execution_count": 7,
      "metadata": {
        "id": "M4LkOjUSeFXN"
      },
      "outputs": [],
      "source": [
        "def numeros(elemento): #mostrar los numeros mayores a 5\n",
        "     return elemento >5\n",
        "\n",
        "tupla = (2,6,7,3,4,5,9,8,7,5)\n",
        "resultado = tuple(filter(numeros,tupla)) #el resultado debe ser una tupla\n",
        "\n",
        "\n",
        "\n",
        "\n"
      ]
    }
  ]
}
